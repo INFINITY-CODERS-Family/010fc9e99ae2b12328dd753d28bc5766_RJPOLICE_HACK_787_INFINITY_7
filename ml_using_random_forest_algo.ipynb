{
 "cells": [
  {
   "cell_type": "code",
   "execution_count": 7,
   "metadata": {},
   "outputs": [],
   "source": [
    "import pandas as pd\n",
    "from sklearn.model_selection import train_test_split\n",
    "from sklearn.ensemble import RandomForestClassifier\n",
    "from sklearn.metrics import accuracy_score, confusion_matrix, classification_report"
   ]
  },
  {
   "cell_type": "code",
   "execution_count": 8,
   "metadata": {},
   "outputs": [
    {
     "name": "stdout",
     "output_type": "stream",
     "text": [
      "     TransactionID     Amount  CustomerID  FraudIndicator\n",
      "0                1  55.530334        1952               0\n",
      "1                2  12.881180        1027               0\n",
      "2                3  50.176322        1955               0\n",
      "3                4  41.634001        1796               0\n",
      "4                5  78.122853        1946               0\n",
      "..             ...        ...         ...             ...\n",
      "995            996  19.876750        1411               0\n",
      "996            997  96.299792        1566               0\n",
      "997            998  75.164459        1654               0\n",
      "998            999  93.633040        1928               0\n",
      "999           1000  89.915625        1503               0\n",
      "\n",
      "[1000 rows x 4 columns]\n"
     ]
    }
   ],
   "source": [
    "\n",
    "data = pd.read_csv(r'Data\\Transaction Data\\transaction_with_fraud.csv')\n",
    "print(data)\n"
   ]
  },
  {
   "cell_type": "code",
   "execution_count": 9,
   "metadata": {},
   "outputs": [
    {
     "name": "stdout",
     "output_type": "stream",
     "text": [
      "     TransactionID     Amount  CustomerID\n",
      "0                1  55.530334        1952\n",
      "1                2  12.881180        1027\n",
      "2                3  50.176322        1955\n",
      "3                4  41.634001        1796\n",
      "4                5  78.122853        1946\n",
      "..             ...        ...         ...\n",
      "995            996  19.876750        1411\n",
      "996            997  96.299792        1566\n",
      "997            998  75.164459        1654\n",
      "998            999  93.633040        1928\n",
      "999           1000  89.915625        1503\n",
      "\n",
      "[1000 rows x 3 columns]\n",
      "0      0\n",
      "1      0\n",
      "2      0\n",
      "3      0\n",
      "4      0\n",
      "      ..\n",
      "995    0\n",
      "996    0\n",
      "997    0\n",
      "998    0\n",
      "999    0\n",
      "Name: FraudIndicator, Length: 1000, dtype: int64\n"
     ]
    }
   ],
   "source": [
    "\n",
    "X = data.drop('FraudIndicator', axis=1)\n",
    "y = data['FraudIndicator']\n",
    "print(X)\n",
    "print(y)\n"
   ]
  },
  {
   "cell_type": "code",
   "execution_count": 10,
   "metadata": {},
   "outputs": [],
   "source": [
    "\n",
    "X_train, X_test, y_train, y_test = train_test_split(X, y, test_size=0.2, random_state=42)\n",
    "\n",
    "clf = RandomForestClassifier(n_estimators=100)\n",
    "\n",
    "clf.fit(X_train, y_train)\n",
    "\n",
    "y_pred = clf.predict(X_test)\n"
   ]
  },
  {
   "cell_type": "code",
   "execution_count": 14,
   "metadata": {},
   "outputs": [
    {
     "name": "stdout",
     "output_type": "stream",
     "text": [
      "Accuracy: 0.965\n",
      "Confusion Matrix:\n",
      " [[193   0]\n",
      " [  7   0]]\n",
      "Classification Report:\n",
      "               precision    recall  f1-score   support\n",
      "\n",
      "           0       0.96      1.00      0.98       193\n",
      "           1       1.00      0.00      0.00         7\n",
      "\n",
      "    accuracy                           0.96       200\n",
      "   macro avg       0.98      0.50      0.49       200\n",
      "weighted avg       0.97      0.96      0.95       200\n",
      "\n"
     ]
    }
   ],
   "source": [
    "print(\"Accuracy:\", accuracy_score(y_test, y_pred))\n",
    "\n",
    "print(\"Confusion Matrix:\\n\", confusion_matrix(y_test, y_pred))\n",
    "\n",
    "print(\"Classification Report:\\n\", classification_report(y_test, y_pred, zero_division=1))"
   ]
  }
 ],
 "metadata": {
  "kernelspec": {
   "display_name": ".venv",
   "language": "python",
   "name": "python3"
  },
  "language_info": {
   "codemirror_mode": {
    "name": "ipython",
    "version": 3
   },
   "file_extension": ".py",
   "mimetype": "text/x-python",
   "name": "python",
   "nbconvert_exporter": "python",
   "pygments_lexer": "ipython3",
   "version": "3.11.7"
  }
 },
 "nbformat": 4,
 "nbformat_minor": 2
}
